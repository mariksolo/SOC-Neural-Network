{
 "cells": [
  {
   "cell_type": "code",
   "execution_count": 1,
   "metadata": {},
   "outputs": [
    {
     "name": "stderr",
     "output_type": "stream",
     "text": [
      "Using TensorFlow backend.\n"
     ]
    }
   ],
   "source": [
    "import csv\n",
    "import matplotlib.pyplot as plt\n",
    "import pandas as pd\n",
    "import seaborn as sns\n",
    "import numpy as np\n",
    "import os\n",
    "\n",
    "import tensorflow as tf\n",
    "\n",
    "from tensorflow import keras\n",
    "\n",
    "from tensorflow.keras import layers;\n",
    "from keras.models import model_from_json\n",
    "from keras.models import load_model"
   ]
  },
  {
   "cell_type": "code",
   "execution_count": 19,
   "metadata": {},
   "outputs": [],
   "source": [
    "import keras\n",
    "from keras.utils import CustomObjectScope\n",
    "\n",
    "from keras.initializers import glorot_uniform\n",
    "import tensorflowjs as tfjs"
   ]
  },
  {
   "cell_type": "code",
   "execution_count": 2,
   "metadata": {},
   "outputs": [
    {
     "data": {
      "text/plain": [
       "513"
      ]
     },
     "execution_count": 2,
     "metadata": {},
     "output_type": "execute_result"
    }
   ],
   "source": [
    "# Load data from a CSV containing samples from California from the years 1991 through 1995\n",
    "column_names1 = [\"layer_key\", \"pH_h2o_8C1f_Sjj_(NA)_123_CMS_0_0\", \"OC_6A1c_Sjj_% wt_119_CMS_0_0\"]\n",
    "oc = pd.read_csv(\"C:/Users/[user]/Desktop/SOM Project/California 91-95 Andic/Andic_Soil_Properties_Tier_2.csv\", usecols = column_names1, skipinitialspace=True, na_values = [\"--\", \"tr\"])\n",
    "oc = oc.dropna()\n",
    "\n",
    "column_names2 = [\"layer_key\", \"ClyT_p_3A1_Sjj_% wt_0_CMS_0_0\"]\n",
    "clay = pd.read_csv(\"C:/Users/[user]/Desktop/SOM Project/California 91-95 Andic/Andic_Soil_Properties_Tier_1.csv\", usecols = column_names2, skipinitialspace=True, na_values = [\"--\", \"tr\"])\n",
    "clay = clay.dropna()\n",
    "\n",
    "column_names3 = [\"layer_key\", \"Ca_nh4_6N2e_Sjj_cmol(+)/kg_114_CMS_0_0\", \n",
    "                 \"Mg_nh4_6O2d_Sjj_cmol(+)/kg_114_CMS_0_0\", \"Na_nh4_6P2b_Sjj_cmol(+)/kg_114_CMS_0_0\",\n",
    "                 \"K_nh4_6Q2b_Sjj_cmol(+)/kg_114_CMS_0_0\", \"CECnh4_5A8b_Sjj_cmol(+)/kg_121_CMS_0_0\",\n",
    "                 \"CECsum_d-0_S\"]\n",
    "minerals = pd.read_csv(\"C:/Users/[user]/Desktop/SOM Project/California 91-95 Geochemistry 2/Geochemistry_Tier_2.csv\", usecols = column_names3, skipinitialspace=True, na_values = [\"--\", \"tr\"])\n",
    "minerals = minerals.dropna()\n",
    "\n",
    "merged = pd.merge(oc, clay)\n",
    "merged = pd.merge(merged, minerals)\n",
    "len(merged)"
   ]
  },
  {
   "cell_type": "code",
   "execution_count": 3,
   "metadata": {},
   "outputs": [
    {
     "data": {
      "text/plain": [
       "175"
      ]
     },
     "execution_count": 3,
     "metadata": {},
     "output_type": "execute_result"
    }
   ],
   "source": [
    "# Load data from a CSV containing samples from California from the years 1988 through 1990\n",
    "column_names1 = [\"layer_key\", \"pH_h2o_8C1f_Sjj_(NA)_123_CMS_0_0\", \"OC_6A1c_Sjj_% wt_119_CMS_0_0\"]\n",
    "oc = pd.read_csv(\"C:/Users/[user]/Desktop/SOM Project/California 88-90 Geochemistry 2 Andic/Andic_Soil_Properties_Tier_2.csv\", usecols = column_names1, skipinitialspace=True, na_values = [\"--\", \"tr\"])\n",
    "oc = oc.dropna()\n",
    "\n",
    "column_names2 = [\"layer_key\", \"ClyT_p_3A1_Sjj_% wt_0_CMS_0_0\"]\n",
    "clay = pd.read_csv(\"C:/Users/[user]/Desktop/SOM Project/California 88-90 Geochemistry 2 Andic/Andic_Soil_Properties_Tier_1.csv\", usecols = column_names2, skipinitialspace=True, na_values = [\"--\", \"tr\"])\n",
    "clay = clay.dropna()\n",
    "\n",
    "column_names3 = [\"layer_key\", \"Ca_nh4_6N2e_Sjj_cmol(+)/kg_114_CMS_0_0\", \n",
    "                 \"Mg_nh4_6O2d_Sjj_cmol(+)/kg_114_CMS_0_0\", \"Na_nh4_6P2b_Sjj_cmol(+)/kg_114_CMS_0_0\",\n",
    "                 \"K_nh4_6Q2b_Sjj_cmol(+)/kg_114_CMS_0_0\", \"CECnh4_5A8b_Sjj_cmol(+)/kg_121_CMS_0_0\",\n",
    "                 \"CECsum_d-0_S\"]\n",
    "minerals = pd.read_csv(\"C:/Users/[user]/Desktop/SOM Project/California 88-90 Geochemistry 2 Andic/Geochemistry_Tier_2.csv\", usecols = column_names3, skipinitialspace=True, na_values = [\"--\", \"tr\"])\n",
    "minerals = minerals.dropna()\n",
    "\n",
    "merged2 = pd.merge(oc, clay)\n",
    "merged2 = pd.merge(merged2, minerals)\n",
    "len(merged2)"
   ]
  },
  {
   "cell_type": "code",
   "execution_count": 25,
   "metadata": {},
   "outputs": [
    {
     "name": "stdout",
     "output_type": "stream",
     "text": [
      "Total number of samples:\n"
     ]
    },
    {
     "data": {
      "text/plain": [
       "863"
      ]
     },
     "execution_count": 25,
     "metadata": {},
     "output_type": "execute_result"
    }
   ],
   "source": [
    "merged = merged.append(merged2)\n",
    "print(\"Total number of samples:\")\n",
    "len(merged)"
   ]
  },
  {
   "cell_type": "code",
   "execution_count": 5,
   "metadata": {},
   "outputs": [],
   "source": [
    "merged.pop('layer_key');"
   ]
  },
  {
   "cell_type": "code",
   "execution_count": 6,
   "metadata": {},
   "outputs": [],
   "source": [
    "# Create training and testing data set, create labels\n",
    "train_dataset = merged.sample(frac=0.8, random_state=0)\n",
    "test_dataset = merged.drop(train_dataset.index)\n",
    "\n",
    "train_stats = train_dataset.describe()\n",
    "test_stats = test_dataset.describe()\n",
    "\n",
    "train_stats = train_stats.transpose()\n",
    "test_stats = test_stats.transpose()\n",
    "\n",
    "train_labels = train_dataset.pop('OC_6A1c_Sjj_% wt_119_CMS_0_0')\n",
    "test_labels = test_dataset.pop('OC_6A1c_Sjj_% wt_119_CMS_0_0')"
   ]
  },
  {
   "cell_type": "markdown",
   "metadata": {},
   "source": [
    "This model uses standard score normalization for the inputs, leaves the outputs un-normalized.\n",
    "![alt text](https://wikimedia.org/api/rest_v1/media/math/render/svg/5fa4ed805c338486b0c852cca4b8e38ee9300870 \"title\")\n"
   ]
  },
  {
   "cell_type": "code",
   "execution_count": 8,
   "metadata": {},
   "outputs": [],
   "source": [
    "def norm(x):\n",
    "  return (x - train_stats['mean']) / train_stats['std']\n",
    "normed_train_data = norm(train_dataset)\n",
    "normed_test_data = norm(test_dataset)\n",
    "normed_train_data.pop('OC_6A1c_Sjj_% wt_119_CMS_0_0');\n",
    "normed_test_data.pop('OC_6A1c_Sjj_% wt_119_CMS_0_0');"
   ]
  },
  {
   "cell_type": "code",
   "execution_count": 11,
   "metadata": {},
   "outputs": [],
   "source": [
    "def build_model():\n",
    "  # Set the dimensions\n",
    "  model = keras.Sequential([\n",
    "    layers.Dense(64, activation='relu', input_shape=[len(train_dataset.keys())]),\n",
    "    layers.Dense(64, activation='relu'),\n",
    "    layers.Dense(1)\n",
    "  ])\n",
    "    \n",
    "  # Uses AdaMax optimizer\n",
    "  optimizer = keras.optimizers.Adamax(0.002, beta_1=0.99, beta_2=0.999)\n",
    "\n",
    "  # Uses mean squared error as the loss metric\n",
    "  model.compile(loss='mse',\n",
    "                optimizer=optimizer,\n",
    "                metrics=['mae', 'mse', 'mape', keras.metrics.CosineSimilarity(axis=1)])\n",
    "    \n",
    "\n",
    "\n",
    "  return model\n",
    "\n"
   ]
  },
  {
   "cell_type": "code",
   "execution_count": 13,
   "metadata": {},
   "outputs": [],
   "source": [
    "model = build_model();\n",
    "\n",
    "# Run for maximum of 1000 epochs\n",
    "EPOCHS = 1000\n",
    "\n",
    "early_stop = keras.callbacks.EarlyStopping(monitor='val_loss', patience=10)\n",
    "\n",
    "history = model.fit(normed_train_data, train_labels, epochs=EPOCHS,\n",
    "                    validation_split = 0.2, verbose=0, callbacks=[early_stop]);\n"
   ]
  },
  {
   "cell_type": "code",
   "execution_count": 14,
   "metadata": {},
   "outputs": [],
   "source": [
    "hist = pd.DataFrame(history.history)\n",
    "hist['epoch'] = history.epoch"
   ]
  },
  {
   "cell_type": "code",
   "execution_count": 20,
   "metadata": {},
   "outputs": [
    {
     "data": {
      "image/png": "[encoded data removed]",
      "text/plain": [
       "<Figure size 432x288 with 1 Axes>"
      ]
     },
     "metadata": {
      "needs_background": "light"
     },
     "output_type": "display_data"
    },
    {
     "data": {
      "image/png": "[encoded data removed]",
      "text/plain": [
       "<Figure size 432x288 with 1 Axes>"
      ]
     },
     "metadata": {
      "needs_background": "light"
     },
     "output_type": "display_data"
    }
   ],
   "source": [
    "def plot_history(history):\n",
    "  hist = pd.DataFrame(history.history)\n",
    "  hist['epoch'] = history.epoch\n",
    "\n",
    "  plt.figure()\n",
    "  plt.xlabel('Epoch')\n",
    "  plt.ylabel('Mean Abs Error')\n",
    "  plt.plot(hist['epoch'], hist['mae'],\n",
    "           label='Train Error')\n",
    "  plt.plot(hist['epoch'], hist['val_mae'],\n",
    "           label = 'Test Error')\n",
    "  plt.ylim([0,2.5])\n",
    "  plt.legend()\n",
    "\n",
    "  plt.figure()\n",
    "  plt.xlabel('Epoch')\n",
    "  plt.ylabel('Mean Squared Error (% wt)')\n",
    "  plt.plot(hist['epoch'], hist['mse'],\n",
    "           label='Train Error')\n",
    "  plt.plot(hist['epoch'], hist['val_mse'],\n",
    "           label = 'Test Error')\n",
    "  plt.ylim([0,10])\n",
    "  plt.legend()\n",
    "  plt.show()\n",
    "\n",
    "\n",
    "plot_history(history)\n"
   ]
  },
  {
   "cell_type": "markdown",
   "metadata": {},
   "source": [
    "Graphs of the loss of the neural network as it was being trained"
   ]
  },
  {
   "cell_type": "code",
   "execution_count": 21,
   "metadata": {},
   "outputs": [],
   "source": [
    "test_predictions = model.predict(normed_test_data)"
   ]
  },
  {
   "cell_type": "code",
   "execution_count": 23,
   "metadata": {},
   "outputs": [
    {
     "name": "stdout",
     "output_type": "stream",
     "text": [
      "Testing set Mean Absolute Error:  0.53 OC % weight\n"
     ]
    }
   ],
   "source": [
    "loss, mae, mse, mape, cosine = model.evaluate(normed_test_data, test_labels, verbose=3);\n",
    "\n",
    "print(\"Testing set Mean Absolute Error: {:5.2f} OC % weight\".format(mae))"
   ]
  },
  {
   "cell_type": "code",
   "execution_count": 26,
   "metadata": {},
   "outputs": [
    {
     "data": {
      "image/png": "[encoded data removed]",
      "text/plain": [
       "<Figure size 432x288 with 1 Axes>"
      ]
     },
     "metadata": {
      "needs_background": "light"
     },
     "output_type": "display_data"
    }
   ],
   "source": [
    "a = plt.axes(aspect='equal')\n",
    "plt.scatter(test_labels, test_predictions)\n",
    "plt.xlabel('True SOC (% wt)')\n",
    "plt.ylabel('Inferred SOC (%wt)')\n",
    "lims = [0, 6]\n",
    "plt.xlim(lims)\n",
    "plt.ylim(lims)\n",
    "_ = plt.plot(lims, lims)"
   ]
  },
  {
   "cell_type": "code",
   "execution_count": 29,
   "metadata": {},
   "outputs": [],
   "source": [
    "# Save the model as a file that can later be used by the desktop application\n",
    "model.save('my_model.h5')"
   ]
  }
 ],
 "metadata": {
  "kernelspec": {
   "display_name": "Python 3",
   "language": "python",
   "name": "python3"
  },
  "language_info": {
   "codemirror_mode": {
    "name": "ipython",
    "version": 3
   },
   "file_extension": ".py",
   "mimetype": "text/x-python",
   "name": "python",
   "nbconvert_exporter": "python",
   "pygments_lexer": "ipython3",
   "version": "3.7.6"
  }
 },
 "nbformat": 4,
 "nbformat_minor": 2
}
